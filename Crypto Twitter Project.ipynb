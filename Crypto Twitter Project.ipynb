{
 "cells": [
  {
   "cell_type": "markdown",
   "metadata": {},
   "source": [
    "# Crypto Twitter Project\n",
    "I use the word \"crypto\" since I am curious about the current progress of digital assets or online currency through medias like twitter."
   ]
  },
  {
   "cell_type": "code",
   "execution_count": 34,
   "metadata": {},
   "outputs": [],
   "source": [
    "#import the required operating systems for files\n",
    "import os\n",
    "\n",
    "#import the pandas for dataframe type imports\n",
    "import numpy as np\n",
    "import pandas as pd\n",
    "\n",
    "#import visualization libraries\n",
    "import matplotlib.pyplot as plt\n",
    "import seaborn as sns\n",
    "import itertools\n",
    "\n",
    "#import collections for collection based data\n",
    "import collections\n",
    "\n",
    "#import tweets through tweepy\n",
    "import tweepy as tweepy\n",
    "\n",
    "#import nltk for natural processing language\n",
    "import nltk\n",
    "from nltk.corpus import stopwords\n",
    "import re\n",
    "import networkx\n",
    "\n",
    "#import warnings to filter out warning messages\n",
    "import warnings\n",
    "warnings.filterwarnings(\"ignore\")\n"
   ]
  },
  {
   "cell_type": "code",
   "execution_count": 35,
   "metadata": {},
   "outputs": [
    {
     "name": "stdout",
     "output_type": "stream",
     "text": [
      "<tweepy.api.API object at 0x00000215442DC1F0>\n"
     ]
    }
   ],
   "source": [
    "#input the required keys and tokens from API twitter account\n",
    "#this gives access to keys for this user\n",
    "\n",
    "access_token = '1393796423548764163-fcviuYaSPA5NVs73Sw8Kw58HjxzTYN'\n",
    "access_secret = 'Qn2Y0RhKFFxdILDGJKhgODftCYjaLM8qh9ndlRgCgK2XV'\n",
    "consumer_key = 'zGcvih5su5z6UsvgFGQsr4AFC'\n",
    "consumer_secret = 'vdJlimJO84yEYRGmkrs3VXao1K0dMfLaIrpQaUB91Er8kEk3WC'\n",
    "\n",
    "\n",
    "auth = tweepy.OAuthHandler(consumer_key, consumer_secret)\n",
    "auth.set_access_token(access_token, access_secret)\n",
    " \n",
    "twitter_api = tweepy.API(auth)\n",
    "\n",
    "print(twitter_api)"
   ]
  },
  {
   "cell_type": "markdown",
   "metadata": {},
   "source": [
    "# Collecting Tweets"
   ]
  },
  {
   "cell_type": "code",
   "execution_count": 36,
   "metadata": {},
   "outputs": [],
   "source": [
    "#The hashtags that I will be using is of my interests and that would be Cryptocurrency. Cryptocurrency is an online based  \n",
    "#currency or digital asset designed to be used as a medium of exchange through a decentralized body called blockchain.\n",
    "#used search_word to search and define the specific variable I am looking for\n",
    "\n",
    "search_words = '#crypto OR #cryptocurrency'\n",
    "date_since = '2021-5-1'"
   ]
  },
  {
   "cell_type": "code",
   "execution_count": 37,
   "metadata": {},
   "outputs": [
    {
     "data": {
      "text/plain": [
       "['RT @HTMoon_Finance: 📦AIRDROP IS HAPPENING\\n\\n🪂We are airdropping 6,000,000,000,000 $HTMOON tokens in partnership with @airdropinspect!\\n\\n💎Each…',\n",
       " 'RT @HTMoon_Finance: 📦AIRDROP IS HAPPENING\\n\\n🪂We are airdropping 6,000,000,000,000 $HTMOON tokens in partnership with @airdropinspect!\\n\\n💎Each…',\n",
       " 'RT @RobelT2021: @davidgokhshtein $SPHRI @SpheriumFinance  is so hot right now!\\n\\nLending and Borrowing Protocol with a user-centric design\\nD…',\n",
       " 'RT @funnybirdnft: ☄️ FunnybirdNFT Airdrop\\n💵 Total rewards : $10\\n👨\\u200d👩\\u200d👧\\u200d👧 Refferal : $3\\n🏦 Listed : JulSwap DEX\\n(https://t.co/NoxDtqVyym)\\n🔍 Fo…',\n",
       " '@1982Pedro1982 Next 30 days all #TELFAM let’s massive promote on all our social media’s \\n\\nJune announcements +… https://t.co/vj5qC6Qu15']"
      ]
     },
     "execution_count": 37,
     "metadata": {},
     "output_type": "execute_result"
    }
   ],
   "source": [
    "#on this part of the search process, I want only a specific number of items to appear as to filter out all other tweets, \n",
    "#since there is too much to look through\n",
    "\n",
    "#collect tweets\n",
    "tweets = tweepy.Cursor(twitter_api.search,\n",
    "                      q=search_words,\n",
    "                      land=\"en\",\n",
    "                      since=date_since).items(5)\n",
    "\n",
    "#Collect a list of tweets\n",
    "[tweet.text for tweet in tweets]"
   ]
  },
  {
   "cell_type": "markdown",
   "metadata": {},
   "source": [
    "# Remove Retweets"
   ]
  },
  {
   "cell_type": "code",
   "execution_count": 38,
   "metadata": {},
   "outputs": [
    {
     "data": {
      "text/plain": [
       "'#crypto OR #cryptocurrency-filter:retweets'"
      ]
     },
     "execution_count": 38,
     "metadata": {},
     "output_type": "execute_result"
    }
   ],
   "source": [
    "#in this part of the code I removed retweets to make sure that I avoid duplicates of the same post that might skew the data\n",
    "new_search = search_words + \"-filter:retweets\"\n",
    "new_search"
   ]
  },
  {
   "cell_type": "code",
   "execution_count": 39,
   "metadata": {},
   "outputs": [
    {
     "data": {
      "text/plain": [
       "['@kidzwillcuss Boxxheads is a collection of 1/1 unique pieces.  Choose your favourite!\\n\\nhttps://t.co/EW0Z746XqO… https://t.co/hekul3mBLa',\n",
       " 'Crypto Trader Who Accurately Called Bitcoin Collapse Predicts Return of Bull Market – Here’s When… https://t.co/FqU7X3MpyB',\n",
       " '@HTMoon_Finance @airdropinspect @HuobiGlobal Great project and strong team in a predictable and transparent road ma… https://t.co/XO1FO1CGIo',\n",
       " '$UST peg is fine -- stable at $1. Currently working With Coingecko on rectifying the data issue.…… https://t.co/1yNFO6dZJ8',\n",
       " '@NFTBeast3 Well organized legit project. I believe this project has a bright future and I am happy to be part of th… https://t.co/HgiD2L8FQs']"
      ]
     },
     "execution_count": 39,
     "metadata": {},
     "output_type": "execute_result"
    }
   ],
   "source": [
    "#similar to searching and collecting tweets, I did the same process here but without retweets\n",
    "tweets = tweepy.Cursor(twitter_api.search,\n",
    "                       q=new_search,\n",
    "                       lang=\"en\",\n",
    "                       since=date_since).items(5)\n",
    "\n",
    "[tweet.text for tweet in tweets]"
   ]
  },
  {
   "cell_type": "code",
   "execution_count": 40,
   "metadata": {},
   "outputs": [
    {
     "data": {
      "text/plain": [
       "[['chaosbyjay', ''],\n",
       " ['GustafCrypto', 'Global'],\n",
       " ['Susanto90630850', ''],\n",
       " ['GustafCrypto', 'Global'],\n",
       " ['Chenche16549124', '']]"
      ]
     },
     "execution_count": 40,
     "metadata": {},
     "output_type": "execute_result"
    }
   ],
   "source": [
    "#I was curious about who tweeted these and so I put this code here to see who did that and from what location they tweeted from\n",
    "tweets = tweepy.Cursor(twitter_api.search, \n",
    "                           q=new_search,\n",
    "                           lang=\"en\",\n",
    "                           since=date_since).items(5)\n",
    "\n",
    "users_locs = [[tweet.user.screen_name, tweet.user.location] for tweet in tweets]\n",
    "users_locs"
   ]
  },
  {
   "cell_type": "code",
   "execution_count": 41,
   "metadata": {},
   "outputs": [
    {
     "data": {
      "text/html": [
       "<div>\n",
       "<style scoped>\n",
       "    .dataframe tbody tr th:only-of-type {\n",
       "        vertical-align: middle;\n",
       "    }\n",
       "\n",
       "    .dataframe tbody tr th {\n",
       "        vertical-align: top;\n",
       "    }\n",
       "\n",
       "    .dataframe thead th {\n",
       "        text-align: right;\n",
       "    }\n",
       "</style>\n",
       "<table border=\"1\" class=\"dataframe\">\n",
       "  <thead>\n",
       "    <tr style=\"text-align: right;\">\n",
       "      <th></th>\n",
       "      <th>user</th>\n",
       "      <th>location</th>\n",
       "    </tr>\n",
       "  </thead>\n",
       "  <tbody>\n",
       "    <tr>\n",
       "      <th>0</th>\n",
       "      <td>chaosbyjay</td>\n",
       "      <td></td>\n",
       "    </tr>\n",
       "    <tr>\n",
       "      <th>1</th>\n",
       "      <td>GustafCrypto</td>\n",
       "      <td>Global</td>\n",
       "    </tr>\n",
       "    <tr>\n",
       "      <th>2</th>\n",
       "      <td>Susanto90630850</td>\n",
       "      <td></td>\n",
       "    </tr>\n",
       "    <tr>\n",
       "      <th>3</th>\n",
       "      <td>GustafCrypto</td>\n",
       "      <td>Global</td>\n",
       "    </tr>\n",
       "    <tr>\n",
       "      <th>4</th>\n",
       "      <td>Chenche16549124</td>\n",
       "      <td></td>\n",
       "    </tr>\n",
       "  </tbody>\n",
       "</table>\n",
       "</div>"
      ],
      "text/plain": [
       "              user location\n",
       "0       chaosbyjay         \n",
       "1     GustafCrypto   Global\n",
       "2  Susanto90630850         \n",
       "3     GustafCrypto   Global\n",
       "4  Chenche16549124         "
      ]
     },
     "execution_count": 41,
     "metadata": {},
     "output_type": "execute_result"
    }
   ],
   "source": [
    "#convverted the list above into a pandas dataframe\n",
    "tweet_text = pd.DataFrame(data=users_locs, \n",
    "                    columns=['user', \"location\"])\n",
    "tweet_text"
   ]
  },
  {
   "cell_type": "markdown",
   "metadata": {},
   "source": [
    "# Customize Queries in Twitter"
   ]
  },
  {
   "cell_type": "code",
   "execution_count": 42,
   "metadata": {},
   "outputs": [
    {
     "data": {
      "text/plain": [
       "['Daily Dose: Elon Musk- The Man who never give up. https://t.co/NBRSXuKvIA\\n\\n#realmeX7Max5G #cancelboardexam2021… https://t.co/AFH9gxH2jr',\n",
       " \"The reason I keep checking my Twitter handle every few minutes is Elon Musk. Because skipping on  Elon's single twe… https://t.co/a9BHoZORmY\",\n",
       " '@trader1sz @imBagsy The 3 most used crypto expression on Twitter 2021 : \\n- Bullish\\n- Bearish \\n- This time will be d… https://t.co/EtXAfd70ug',\n",
       " 'Experts answer: How does Elon Musk affect crypto space?',\n",
       " 'Experts in crypto and blockchain answer the question: How do all these Elon Musk comments affect the entire crypto… https://t.co/hXtDyrl36Y']"
      ]
     },
     "execution_count": 42,
     "metadata": {},
     "output_type": "execute_result"
    }
   ],
   "source": [
    "#to see a specific implimentation of subjects I create a list that is queried\n",
    "\n",
    "new_search = 'crypto+elon' +'-filter:retweets'\n",
    "\n",
    "tweets = tweepy.Cursor(twitter_api.search,\n",
    "                       q=new_search,\n",
    "                       lang=\"en\",\n",
    "                       since=date_since).items(1000)\n",
    "\n",
    "all_tweets = [tweet.text for tweet in tweets]\n",
    "all_tweets[:5]"
   ]
  },
  {
   "cell_type": "markdown",
   "metadata": {},
   "source": [
    "# Remove URLs (links)"
   ]
  },
  {
   "cell_type": "code",
   "execution_count": 43,
   "metadata": {},
   "outputs": [],
   "source": [
    "#since i will be doing word counts in this part of the code \n",
    "#define a function to remove urls \n",
    "def remove_url(txt):\n",
    "    \"\"\"Replace URLs found in a text string with nothing \n",
    "    (i.e. it will remove the URL from the string).\n",
    "\n",
    "    Parameters\n",
    "    ----------\n",
    "    txt : string\n",
    "        A text string that you want to parse and remove urls.\n",
    "\n",
    "    Returns\n",
    "    -------\n",
    "    The same txt string with url's removed.\n",
    "    \"\"\"\n",
    "\n",
    "    return \" \".join(re.sub(\"([^0-9A-Za-z \\t])|(\\w+:\\/\\/\\S+)\", \"\", txt).split())"
   ]
  },
  {
   "cell_type": "code",
   "execution_count": 45,
   "metadata": {},
   "outputs": [
    {
     "data": {
      "text/plain": [
       "['Daily Dose Elon Musk The Man who never give up realmeX7Max5G cancelboardexam2021',\n",
       " 'The reason I keep checking my Twitter handle every few minutes is Elon Musk Because skipping on Elons single twe',\n",
       " 'trader1sz imBagsy The 3 most used crypto expression on Twitter 2021 Bullish Bearish This time will be d',\n",
       " 'Experts answer How does Elon Musk affect crypto space',\n",
       " 'Experts in crypto and blockchain answer the question How do all these Elon Musk comments affect the entire crypto']"
      ]
     },
     "execution_count": 45,
     "metadata": {},
     "output_type": "execute_result"
    }
   ],
   "source": [
    "#to check if the urls are still there i put this code here to check whether it is still present\n",
    "all_tweets_no_urls = [remove_url(tweet) for tweet in all_tweets]\n",
    "all_tweets_no_urls[:5]"
   ]
  },
  {
   "cell_type": "code",
   "execution_count": 46,
   "metadata": {},
   "outputs": [
    {
     "data": {
      "text/plain": [
       "['daily',\n",
       " 'dose',\n",
       " 'elon',\n",
       " 'musk',\n",
       " 'the',\n",
       " 'man',\n",
       " 'who',\n",
       " 'never',\n",
       " 'give',\n",
       " 'up',\n",
       " 'realmex7max5g',\n",
       " 'cancelboardexam2021']"
      ]
     },
     "execution_count": 46,
     "metadata": {},
     "output_type": "execute_result"
    }
   ],
   "source": [
    "#now split the words from one tweet into many unique seperate entities\n",
    "all_tweets_no_urls[0].lower().split()"
   ]
  },
  {
   "cell_type": "code",
   "execution_count": 48,
   "metadata": {},
   "outputs": [
    {
     "data": {
      "text/plain": [
       "[['daily',\n",
       "  'dose',\n",
       "  'elon',\n",
       "  'musk',\n",
       "  'the',\n",
       "  'man',\n",
       "  'who',\n",
       "  'never',\n",
       "  'give',\n",
       "  'up',\n",
       "  'realmex7max5g',\n",
       "  'cancelboardexam2021'],\n",
       " ['the',\n",
       "  'reason',\n",
       "  'i',\n",
       "  'keep',\n",
       "  'checking',\n",
       "  'my',\n",
       "  'twitter',\n",
       "  'handle',\n",
       "  'every',\n",
       "  'few',\n",
       "  'minutes',\n",
       "  'is',\n",
       "  'elon',\n",
       "  'musk',\n",
       "  'because',\n",
       "  'skipping',\n",
       "  'on',\n",
       "  'elons',\n",
       "  'single',\n",
       "  'twe'],\n",
       " ['trader1sz',\n",
       "  'imbagsy',\n",
       "  'the',\n",
       "  '3',\n",
       "  'most',\n",
       "  'used',\n",
       "  'crypto',\n",
       "  'expression',\n",
       "  'on',\n",
       "  'twitter',\n",
       "  '2021',\n",
       "  'bullish',\n",
       "  'bearish',\n",
       "  'this',\n",
       "  'time',\n",
       "  'will',\n",
       "  'be',\n",
       "  'd'],\n",
       " ['experts',\n",
       "  'answer',\n",
       "  'how',\n",
       "  'does',\n",
       "  'elon',\n",
       "  'musk',\n",
       "  'affect',\n",
       "  'crypto',\n",
       "  'space'],\n",
       " ['experts',\n",
       "  'in',\n",
       "  'crypto',\n",
       "  'and',\n",
       "  'blockchain',\n",
       "  'answer',\n",
       "  'the',\n",
       "  'question',\n",
       "  'how',\n",
       "  'do',\n",
       "  'all',\n",
       "  'these',\n",
       "  'elon',\n",
       "  'musk',\n",
       "  'comments',\n",
       "  'affect',\n",
       "  'the',\n",
       "  'entire',\n",
       "  'crypto']]"
      ]
     },
     "execution_count": 48,
     "metadata": {},
     "output_type": "execute_result"
    }
   ],
   "source": [
    "#now create a list of lists from the previous code containing the lowercase words for each tweet\n",
    "#making sure that all the words are lowercase\n",
    "words_in_tweets = [tweet.lower().split() for tweet in all_tweets_no_urls]\n",
    "words_in_tweets[:5]\n"
   ]
  },
  {
   "cell_type": "code",
   "execution_count": 50,
   "metadata": {},
   "outputs": [
    {
     "data": {
      "text/plain": [
       "[('elon', 525),\n",
       " ('crypto', 489),\n",
       " ('the', 454),\n",
       " ('kissmymoon', 393),\n",
       " ('musk', 303),\n",
       " ('for', 287),\n",
       " ('with', 253),\n",
       " ('moon', 224),\n",
       " ('to', 222),\n",
       " ('rocket', 201),\n",
       " ('presale', 199),\n",
       " ('open', 199),\n",
       " ('whitelist', 198),\n",
       " ('kiss', 197),\n",
       " ('together', 197)]"
      ]
     },
     "execution_count": 50,
     "metadata": {},
     "output_type": "execute_result"
    }
   ],
   "source": [
    "#list all words from the tweets, creating a kind of dictionary of words\n",
    "all_words_no_urls = list(itertools.chain(*words_in_tweets))\n",
    "\n",
    "#create a counter\n",
    "counts_no_urls = collections.Counter(all_words_no_urls)\n",
    "\n",
    "counts_no_urls.most_common(15)"
   ]
  },
  {
   "cell_type": "code",
   "execution_count": 51,
   "metadata": {},
   "outputs": [
    {
     "data": {
      "text/html": [
       "<div>\n",
       "<style scoped>\n",
       "    .dataframe tbody tr th:only-of-type {\n",
       "        vertical-align: middle;\n",
       "    }\n",
       "\n",
       "    .dataframe tbody tr th {\n",
       "        vertical-align: top;\n",
       "    }\n",
       "\n",
       "    .dataframe thead th {\n",
       "        text-align: right;\n",
       "    }\n",
       "</style>\n",
       "<table border=\"1\" class=\"dataframe\">\n",
       "  <thead>\n",
       "    <tr style=\"text-align: right;\">\n",
       "      <th></th>\n",
       "      <th>words</th>\n",
       "      <th>count</th>\n",
       "    </tr>\n",
       "  </thead>\n",
       "  <tbody>\n",
       "    <tr>\n",
       "      <th>0</th>\n",
       "      <td>elon</td>\n",
       "      <td>525</td>\n",
       "    </tr>\n",
       "    <tr>\n",
       "      <th>1</th>\n",
       "      <td>crypto</td>\n",
       "      <td>489</td>\n",
       "    </tr>\n",
       "    <tr>\n",
       "      <th>2</th>\n",
       "      <td>the</td>\n",
       "      <td>454</td>\n",
       "    </tr>\n",
       "    <tr>\n",
       "      <th>3</th>\n",
       "      <td>kissmymoon</td>\n",
       "      <td>393</td>\n",
       "    </tr>\n",
       "    <tr>\n",
       "      <th>4</th>\n",
       "      <td>musk</td>\n",
       "      <td>303</td>\n",
       "    </tr>\n",
       "  </tbody>\n",
       "</table>\n",
       "</div>"
      ],
      "text/plain": [
       "        words  count\n",
       "0        elon    525\n",
       "1      crypto    489\n",
       "2         the    454\n",
       "3  kissmymoon    393\n",
       "4        musk    303"
      ]
     },
     "execution_count": 51,
     "metadata": {},
     "output_type": "execute_result"
    }
   ],
   "source": [
    "#based on what is given from above, this can be created as a dataframe through pandas for analysis\n",
    "#creation of pandas dataframe through analyze and plot of the top 15 common words\n",
    "clean_tweets_no_urls = pd.DataFrame(counts_no_urls.most_common(15),\n",
    "                             columns=['words', 'count'])\n",
    "\n",
    "clean_tweets_no_urls.head()"
   ]
  },
  {
   "cell_type": "code",
   "execution_count": 54,
   "metadata": {},
   "outputs": [
    {
     "data": {
      "image/png": "[encoded data removed]",
      "text/plain": [
       "<Figure size 576x576 with 1 Axes>"
      ]
     },
     "metadata": {},
     "output_type": "display_data"
    }
   ],
   "source": [
    "#using the dataframe that was just created, we will visualize the unique common words\n",
    "#i set the font for grid lines to appear in the graph\n",
    "sns.set(font_scale=1.5)\n",
    "sns.set_style(\"whitegrid\")\n",
    "\n",
    "fig, ax = plt.subplots(figsize=(8, 8))\n",
    "\n",
    "# Plot horizontal bar graph\n",
    "clean_tweets_no_urls.sort_values(by='count').plot.barh(x='words',\n",
    "                      y='count',\n",
    "                      ax=ax,\n",
    "                      color=\"green\")\n",
    "\n",
    "ax.set_title(\"Common Words Found in Tweets (Including All Words)\")\n",
    "\n",
    "plt.show()"
   ]
  },
  {
   "cell_type": "markdown",
   "metadata": {},
   "source": [
    "**Remove Stopwords with nltk**\n",
    "- Other than lowercase words, there are additional clean-ups such as removing words that do not add meaningful information to the text that we are trying to analyze\n",
    "- \"Stop words\" are referred to as words that are commonly used such as who, what, you, the, etc."
   ]
  },
  {
   "cell_type": "code",
   "execution_count": 55,
   "metadata": {},
   "outputs": [
    {
     "name": "stderr",
     "output_type": "stream",
     "text": [
      "[nltk_data] Downloading package stopwords to C:\\Users\\William\n",
      "[nltk_data]     Ku\\AppData\\Roaming\\nltk_data...\n",
      "[nltk_data]   Unzipping corpora\\stopwords.zip.\n"
     ]
    },
    {
     "data": {
      "text/plain": [
       "['mightn',\n",
       " 'been',\n",
       " 'nor',\n",
       " 'needn',\n",
       " 'does',\n",
       " 'other',\n",
       " 're',\n",
       " 'herself',\n",
       " 'doesn',\n",
       " 'mustn']"
      ]
     },
     "execution_count": 55,
     "metadata": {},
     "output_type": "execute_result"
    }
   ],
   "source": [
    "#use nltk download for stopwords\n",
    "nltk.download('stopwords')\n",
    "stop_words = set(stopwords.words('english'))\n",
    "\n",
    "# View some words from the set\n",
    "list(stop_words)[0:10]"
   ]
  },
  {
   "cell_type": "code",
   "execution_count": 60,
   "metadata": {},
   "outputs": [
    {
     "data": {
      "text/plain": [
       "['daily',\n",
       " 'dose',\n",
       " 'elon',\n",
       " 'musk',\n",
       " 'the',\n",
       " 'man',\n",
       " 'who',\n",
       " 'never',\n",
       " 'give',\n",
       " 'up',\n",
       " 'realmex7max5g',\n",
       " 'cancelboardexam2021']"
      ]
     },
     "execution_count": 60,
     "metadata": {},
     "output_type": "execute_result"
    }
   ],
   "source": [
    "#now that we know that all the words are lowercased, the next step is to all stop words in the tweet.\n",
    "\n",
    "#lets have a look at what the original set looks like before going forward\n",
    "words_in_tweets[0]"
   ]
  },
  {
   "cell_type": "code",
   "execution_count": 63,
   "metadata": {},
   "outputs": [
    {
     "data": {
      "text/plain": [
       "['daily',\n",
       " 'dose',\n",
       " 'elon',\n",
       " 'musk',\n",
       " 'man',\n",
       " 'never',\n",
       " 'give',\n",
       " 'realmex7max5g',\n",
       " 'cancelboardexam2021']"
      ]
     },
     "execution_count": 63,
     "metadata": {},
     "output_type": "execute_result"
    }
   ],
   "source": [
    "# Remove stop words from each tweet list of words\n",
    "tweets_nsw = [[word for word in tweet_words if not word in stop_words]\n",
    "              for tweet_words in words_in_tweets]\n",
    "\n",
    "tweets_nsw[0]"
   ]
  },
  {
   "cell_type": "code",
   "execution_count": 64,
   "metadata": {},
   "outputs": [
    {
     "data": {
      "text/plain": [
       "[('elon', 525),\n",
       " ('crypto', 489),\n",
       " ('kissmymoon', 393),\n",
       " ('musk', 303),\n",
       " ('moon', 224),\n",
       " ('rocket', 201),\n",
       " ('presale', 199),\n",
       " ('open', 199),\n",
       " ('whitelist', 198),\n",
       " ('kiss', 197),\n",
       " ('together', 197),\n",
       " ('rock', 196),\n",
       " ('bitcoin', 172),\n",
       " ('affect', 111),\n",
       " ('experts', 106)]"
      ]
     },
     "execution_count": 64,
     "metadata": {},
     "output_type": "execute_result"
    }
   ],
   "source": [
    "#now redo the count for the most common words\n",
    "all_words_nsw = list(itertools.chain(*tweets_nsw))\n",
    "\n",
    "counts_nsw = collections.Counter(all_words_nsw)\n",
    "\n",
    "counts_nsw.most_common(15)"
   ]
  },
  {
   "cell_type": "code",
   "execution_count": 66,
   "metadata": {},
   "outputs": [
    {
     "data": {
      "image/png": "[encoded data removed]",
      "text/plain": [
       "<Figure size 576x576 with 1 Axes>"
      ]
     },
     "metadata": {},
     "output_type": "display_data"
    }
   ],
   "source": [
    "#now that list is done, lets do another graph, this time without the stop words.\n",
    "clean_tweets_nsw = pd.DataFrame(counts_nsw.most_common(15),\n",
    "                             columns=['words', 'count'])\n",
    "\n",
    "fig, ax = plt.subplots(figsize=(8, 8))\n",
    "\n",
    "# Plot horizontal bar graph\n",
    "clean_tweets_nsw.sort_values(by='count').plot.barh(x='words',\n",
    "                      y='count',\n",
    "                      ax=ax,\n",
    "                      color=\"green\")\n",
    "\n",
    "ax.set_title(\"Common Words Found in Tweets (Without Stop Words)\")\n",
    "\n",
    "plt.show()"
   ]
  },
  {
   "cell_type": "markdown",
   "metadata": {},
   "source": [
    "**Removing Collection Words**\n",
    "- Other than removing stop words, it is also common to remove collection words as to not skew the data\n",
    "- \"crypto, elon, musk\" would be collection terms and thus found in each tweet, which can skew the word frequency analysis"
   ]
  },
  {
   "cell_type": "code",
   "execution_count": 71,
   "metadata": {},
   "outputs": [],
   "source": [
    "collection_words = ['crypto', 'elon', 'musk', 'elonmusk']\n",
    "tweets_nsw_nc = [[w for w in word if not w in collection_words]\n",
    "                 for word in tweets_nsw]"
   ]
  },
  {
   "cell_type": "code",
   "execution_count": 72,
   "metadata": {},
   "outputs": [
    {
     "data": {
      "text/plain": [
       "['daily',\n",
       " 'dose',\n",
       " 'elon',\n",
       " 'musk',\n",
       " 'man',\n",
       " 'never',\n",
       " 'give',\n",
       " 'realmex7max5g',\n",
       " 'cancelboardexam2021']"
      ]
     },
     "execution_count": 72,
     "metadata": {},
     "output_type": "execute_result"
    }
   ],
   "source": [
    "#next we compare from the original\n",
    "tweets_nsw[0]"
   ]
  },
  {
   "cell_type": "code",
   "execution_count": 73,
   "metadata": {},
   "outputs": [
    {
     "data": {
      "text/plain": [
       "['daily',\n",
       " 'dose',\n",
       " 'man',\n",
       " 'never',\n",
       " 'give',\n",
       " 'realmex7max5g',\n",
       " 'cancelboardexam2021']"
      ]
     },
     "execution_count": 73,
     "metadata": {},
     "output_type": "execute_result"
    }
   ],
   "source": [
    "tweets_nsw_nc[0]"
   ]
  },
  {
   "cell_type": "markdown",
   "metadata": {},
   "source": [
    "**Plot Word Frequency of Clean Tweets**\n",
    "- Now the data has been cleaned, its ready to be calculated and ploted for its final word frequency analysis"
   ]
  },
  {
   "cell_type": "code",
   "execution_count": 74,
   "metadata": {},
   "outputs": [
    {
     "data": {
      "text/plain": [
       "[('kissmymoon', 393),\n",
       " ('moon', 224),\n",
       " ('rocket', 201),\n",
       " ('presale', 199),\n",
       " ('open', 199),\n",
       " ('whitelist', 198),\n",
       " ('kiss', 197),\n",
       " ('together', 197),\n",
       " ('rock', 196),\n",
       " ('bitcoin', 172),\n",
       " ('affect', 111),\n",
       " ('experts', 106),\n",
       " ('space', 105),\n",
       " ('dogecoin', 105),\n",
       " ('answer', 96)]"
      ]
     },
     "execution_count": 74,
     "metadata": {},
     "output_type": "execute_result"
    }
   ],
   "source": [
    "# Flatten list of words in clean tweets\n",
    "all_words_nsw_nc = list(itertools.chain(*tweets_nsw_nc))\n",
    "\n",
    "# Create counter of words in clean tweets\n",
    "counts_nsw_nc = collections.Counter(all_words_nsw_nc)\n",
    "\n",
    "counts_nsw_nc.most_common(15)"
   ]
  },
  {
   "cell_type": "code",
   "execution_count": 75,
   "metadata": {},
   "outputs": [
    {
     "data": {
      "text/plain": [
       "2519"
      ]
     },
     "execution_count": 75,
     "metadata": {},
     "output_type": "execute_result"
    }
   ],
   "source": [
    "#this is used to find out how many unique words across all tweets using len()\n",
    "len(counts_nsw_nc)"
   ]
  },
  {
   "cell_type": "code",
   "execution_count": 76,
   "metadata": {},
   "outputs": [
    {
     "data": {
      "text/html": [
       "<div>\n",
       "<style scoped>\n",
       "    .dataframe tbody tr th:only-of-type {\n",
       "        vertical-align: middle;\n",
       "    }\n",
       "\n",
       "    .dataframe tbody tr th {\n",
       "        vertical-align: top;\n",
       "    }\n",
       "\n",
       "    .dataframe thead th {\n",
       "        text-align: right;\n",
       "    }\n",
       "</style>\n",
       "<table border=\"1\" class=\"dataframe\">\n",
       "  <thead>\n",
       "    <tr style=\"text-align: right;\">\n",
       "      <th></th>\n",
       "      <th>words</th>\n",
       "      <th>count</th>\n",
       "    </tr>\n",
       "  </thead>\n",
       "  <tbody>\n",
       "    <tr>\n",
       "      <th>0</th>\n",
       "      <td>kissmymoon</td>\n",
       "      <td>393</td>\n",
       "    </tr>\n",
       "    <tr>\n",
       "      <th>1</th>\n",
       "      <td>moon</td>\n",
       "      <td>224</td>\n",
       "    </tr>\n",
       "    <tr>\n",
       "      <th>2</th>\n",
       "      <td>rocket</td>\n",
       "      <td>201</td>\n",
       "    </tr>\n",
       "    <tr>\n",
       "      <th>3</th>\n",
       "      <td>presale</td>\n",
       "      <td>199</td>\n",
       "    </tr>\n",
       "    <tr>\n",
       "      <th>4</th>\n",
       "      <td>open</td>\n",
       "      <td>199</td>\n",
       "    </tr>\n",
       "  </tbody>\n",
       "</table>\n",
       "</div>"
      ],
      "text/plain": [
       "        words  count\n",
       "0  kissmymoon    393\n",
       "1        moon    224\n",
       "2      rocket    201\n",
       "3     presale    199\n",
       "4        open    199"
      ]
     },
     "execution_count": 76,
     "metadata": {},
     "output_type": "execute_result"
    }
   ],
   "source": [
    "#then we use a pandas dataframe of the words and their counts and plots to display the top 15 common words\n",
    "clean_tweets_ncw = pd.DataFrame(counts_nsw_nc.most_common(15),\n",
    "                             columns=['words', 'count'])\n",
    "clean_tweets_ncw.head()"
   ]
  },
  {
   "cell_type": "code",
   "execution_count": 78,
   "metadata": {},
   "outputs": [
    {
     "data": {
      "image/png": "[encoded data removed]",
      "text/plain": [
       "<Figure size 576x576 with 1 Axes>"
      ]
     },
     "metadata": {},
     "output_type": "display_data"
    }
   ],
   "source": [
    "#use a plot graph to displsy the dataframe created from the pandas.\n",
    "fig, ax = plt.subplots(figsize=(8, 8))\n",
    "\n",
    "# Plot horizontal bar graph\n",
    "clean_tweets_ncw.sort_values(by='count').plot.barh(x='words',\n",
    "                      y='count',\n",
    "                      ax=ax,\n",
    "                      color=\"green\")\n",
    "\n",
    "ax.set_title(\"Common Words Found in Tweets (Without Stop or Collection Words)\")\n",
    "\n",
    "plt.show()"
   ]
  },
  {
   "cell_type": "markdown",
   "metadata": {},
   "source": [
    "**Conclusion**\n",
    "- It appears that the words that are used the most is kissmymoon which is a term that was used when one of the crypto coins was in term \"going to the moon\". Right behind that word is moon which also corresponds to the term prices rising towards the moon. Similar to the most popular word on this list. "
   ]
  },
  {
   "cell_type": "markdown",
   "metadata": {},
   "source": [
    "**Analyzing tweets from Elon Musk**\n",
    "- Elon is one of the most sought out individual and almost has the power to manipulate the stock market just by tweeting about it. As I am curious about this I will be analyzing Elon's tweets over the course of the crypto hype."
   ]
  },
  {
   "cell_type": "code",
   "execution_count": 83,
   "metadata": {},
   "outputs": [],
   "source": [
    "# We import our access keys:\n",
    "\n",
    "\n",
    "# API's setup:\n",
    "def twitter_setup():\n",
    "    \"\"\"\n",
    "    Utility function to setup the Twitter's API\n",
    "    with our access keys provided.\n",
    "    \"\"\"\n",
    "    # Authentication and access using keys:\n",
    "    auth = tweepy.OAuthHandler(consumer_key, consumer_secret)\n",
    "    auth.set_access_token(access_token, access_secret)\n",
    "\n",
    "    # Return API with authentication:\n",
    "    api = tweepy.API(auth)\n",
    "    return api"
   ]
  },
  {
   "cell_type": "code",
   "execution_count": 85,
   "metadata": {},
   "outputs": [
    {
     "name": "stdout",
     "output_type": "stream",
     "text": [
      "Number of tweets extracted: 40.\n",
      "\n",
      "5 recent tweets:\n",
      "\n",
      "@ErcXspace @SpaceX @NASASpaceflight @MarcusHouse Pretty close. Inner ring is closer to center 3, as all 12 gimbal t… https://t.co/9IGXh7oyE5\n",
      "\n",
      "@hiddin2urleft @greg16676935420 @blockfolio @BillyM2k @itsALLrisky @GloryDoge @DogecoinRise @ItsDogeCoin @DogeEducation @Investments_CEO 🤣🤣\n",
      "\n",
      "Ocean spaceport Deimos is under construction for launch next year https://t.co/WJQka399c7\n",
      "\n",
      "RT @SpaceX: One year ago today, SpaceX launched its first human spaceflight mission with @NASA astronauts @AstroBehnken and @Astro_Doug on…\n",
      "\n",
      "@RenataKonkoly @Tesmanian_com Sehnsucht\n",
      "\n"
     ]
    }
   ],
   "source": [
    "# We create an extractor object:\n",
    "extractor = twitter_setup()\n",
    "\n",
    "# We create a tweet list as follows:\n",
    "tweets = extractor.user_timeline(screen_name=\"elonmusk\", count=1000)\n",
    "print(\"Number of tweets extracted: {}.\\n\".format(len(tweets)))\n",
    "\n",
    "# We print the most recent 5 tweets:\n",
    "print(\"5 recent tweets:\\n\")\n",
    "for tweet in tweets[:5]:\n",
    "    print(tweet.text)\n",
    "    print()"
   ]
  },
  {
   "cell_type": "code",
   "execution_count": 86,
   "metadata": {},
   "outputs": [
    {
     "data": {
      "text/html": [
       "<div>\n",
       "<style scoped>\n",
       "    .dataframe tbody tr th:only-of-type {\n",
       "        vertical-align: middle;\n",
       "    }\n",
       "\n",
       "    .dataframe tbody tr th {\n",
       "        vertical-align: top;\n",
       "    }\n",
       "\n",
       "    .dataframe thead th {\n",
       "        text-align: right;\n",
       "    }\n",
       "</style>\n",
       "<table border=\"1\" class=\"dataframe\">\n",
       "  <thead>\n",
       "    <tr style=\"text-align: right;\">\n",
       "      <th></th>\n",
       "      <th>Tweets</th>\n",
       "    </tr>\n",
       "  </thead>\n",
       "  <tbody>\n",
       "    <tr>\n",
       "      <th>0</th>\n",
       "      <td>@ErcXspace @SpaceX @NASASpaceflight @MarcusHou...</td>\n",
       "    </tr>\n",
       "    <tr>\n",
       "      <th>1</th>\n",
       "      <td>@hiddin2urleft @greg16676935420 @blockfolio @B...</td>\n",
       "    </tr>\n",
       "    <tr>\n",
       "      <th>2</th>\n",
       "      <td>Ocean spaceport Deimos is under construction f...</td>\n",
       "    </tr>\n",
       "    <tr>\n",
       "      <th>3</th>\n",
       "      <td>RT @SpaceX: One year ago today, SpaceX launche...</td>\n",
       "    </tr>\n",
       "    <tr>\n",
       "      <th>4</th>\n",
       "      <td>@RenataKonkoly @Tesmanian_com Sehnsucht</td>\n",
       "    </tr>\n",
       "    <tr>\n",
       "      <th>5</th>\n",
       "      <td>@Tesmanian_com Danke!!</td>\n",
       "    </tr>\n",
       "    <tr>\n",
       "      <th>6</th>\n",
       "      <td>@PPathole @nextspaceflight @NASASpaceflight @B...</td>\n",
       "    </tr>\n",
       "    <tr>\n",
       "      <th>7</th>\n",
       "      <td>@RationalEtienne @kimbal True</td>\n",
       "    </tr>\n",
       "    <tr>\n",
       "      <th>8</th>\n",
       "      <td>@UniverCurious @TechInsider 250M years is only...</td>\n",
       "    </tr>\n",
       "    <tr>\n",
       "      <th>9</th>\n",
       "      <td>@Erdayastronaut @nextspaceflight @NASASpacefli...</td>\n",
       "    </tr>\n",
       "  </tbody>\n",
       "</table>\n",
       "</div>"
      ],
      "text/plain": [
       "                                              Tweets\n",
       "0  @ErcXspace @SpaceX @NASASpaceflight @MarcusHou...\n",
       "1  @hiddin2urleft @greg16676935420 @blockfolio @B...\n",
       "2  Ocean spaceport Deimos is under construction f...\n",
       "3  RT @SpaceX: One year ago today, SpaceX launche...\n",
       "4            @RenataKonkoly @Tesmanian_com Sehnsucht\n",
       "5                             @Tesmanian_com Danke!!\n",
       "6  @PPathole @nextspaceflight @NASASpaceflight @B...\n",
       "7                      @RationalEtienne @kimbal True\n",
       "8  @UniverCurious @TechInsider 250M years is only...\n",
       "9  @Erdayastronaut @nextspaceflight @NASASpacefli..."
      ]
     },
     "metadata": {},
     "output_type": "display_data"
    }
   ],
   "source": [
    "# We create a pandas dataframe as follows:\n",
    "elon_tweet_data = pd.DataFrame(data=[tweet.text for tweet in tweets], columns=['Tweets'])\n",
    "\n",
    "# We display the first 10 elements of the dataframe:\n",
    "display(elon_tweet_data.head(10))"
   ]
  },
  {
   "cell_type": "markdown",
   "metadata": {},
   "source": [
    "**Add relevant info to our dataframe**"
   ]
  },
  {
   "cell_type": "code",
   "execution_count": 87,
   "metadata": {},
   "outputs": [],
   "source": [
    "# We add relevant data:\n",
    "elon_tweet_data['len']  = np.array([len(tweet.text) for tweet in tweets])\n",
    "elon_tweet_data['ID']   = np.array([tweet.id for tweet in tweets])\n",
    "elon_tweet_data['Date'] = np.array([tweet.created_at for tweet in tweets])\n",
    "elon_tweet_data['Source'] = np.array([tweet.source for tweet in tweets])\n",
    "elon_tweet_data['Likes']  = np.array([tweet.favorite_count for tweet in tweets])\n",
    "elon_tweet_data['RTs']    = np.array([tweet.retweet_count for tweet in tweets])"
   ]
  },
  {
   "cell_type": "code",
   "execution_count": 91,
   "metadata": {},
   "outputs": [
    {
     "data": {
      "text/html": [
       "<div>\n",
       "<style scoped>\n",
       "    .dataframe tbody tr th:only-of-type {\n",
       "        vertical-align: middle;\n",
       "    }\n",
       "\n",
       "    .dataframe tbody tr th {\n",
       "        vertical-align: top;\n",
       "    }\n",
       "\n",
       "    .dataframe thead th {\n",
       "        text-align: right;\n",
       "    }\n",
       "</style>\n",
       "<table border=\"1\" class=\"dataframe\">\n",
       "  <thead>\n",
       "    <tr style=\"text-align: right;\">\n",
       "      <th></th>\n",
       "      <th>Tweets</th>\n",
       "      <th>len</th>\n",
       "      <th>ID</th>\n",
       "      <th>Date</th>\n",
       "      <th>Source</th>\n",
       "      <th>Likes</th>\n",
       "      <th>RTs</th>\n",
       "    </tr>\n",
       "  </thead>\n",
       "  <tbody>\n",
       "    <tr>\n",
       "      <th>0</th>\n",
       "      <td>@ErcXspace @SpaceX @NASASpaceflight @MarcusHou...</td>\n",
       "      <td>140</td>\n",
       "      <td>1399221133711446018</td>\n",
       "      <td>2021-05-31 04:28:09</td>\n",
       "      <td>Twitter for iPhone</td>\n",
       "      <td>12600</td>\n",
       "      <td>607</td>\n",
       "    </tr>\n",
       "    <tr>\n",
       "      <th>1</th>\n",
       "      <td>@hiddin2urleft @greg16676935420 @blockfolio @B...</td>\n",
       "      <td>139</td>\n",
       "      <td>1399114511202852871</td>\n",
       "      <td>2021-05-30 21:24:28</td>\n",
       "      <td>Twitter for iPhone</td>\n",
       "      <td>31859</td>\n",
       "      <td>1826</td>\n",
       "    </tr>\n",
       "    <tr>\n",
       "      <th>2</th>\n",
       "      <td>Ocean spaceport Deimos is under construction f...</td>\n",
       "      <td>89</td>\n",
       "      <td>1399088815705399305</td>\n",
       "      <td>2021-05-30 19:42:22</td>\n",
       "      <td>Twitter for iPhone</td>\n",
       "      <td>94411</td>\n",
       "      <td>9169</td>\n",
       "    </tr>\n",
       "    <tr>\n",
       "      <th>3</th>\n",
       "      <td>RT @SpaceX: One year ago today, SpaceX launche...</td>\n",
       "      <td>139</td>\n",
       "      <td>1399088337206525952</td>\n",
       "      <td>2021-05-30 19:40:28</td>\n",
       "      <td>Twitter for iPhone</td>\n",
       "      <td>0</td>\n",
       "      <td>2817</td>\n",
       "    </tr>\n",
       "    <tr>\n",
       "      <th>4</th>\n",
       "      <td>@RenataKonkoly @Tesmanian_com Sehnsucht</td>\n",
       "      <td>39</td>\n",
       "      <td>1399051334339465224</td>\n",
       "      <td>2021-05-30 17:13:25</td>\n",
       "      <td>Twitter for iPhone</td>\n",
       "      <td>3749</td>\n",
       "      <td>218</td>\n",
       "    </tr>\n",
       "    <tr>\n",
       "      <th>5</th>\n",
       "      <td>@Tesmanian_com Danke!!</td>\n",
       "      <td>22</td>\n",
       "      <td>1399047159467679752</td>\n",
       "      <td>2021-05-30 16:56:50</td>\n",
       "      <td>Twitter for iPhone</td>\n",
       "      <td>18238</td>\n",
       "      <td>679</td>\n",
       "    </tr>\n",
       "    <tr>\n",
       "      <th>6</th>\n",
       "      <td>@PPathole @nextspaceflight @NASASpaceflight @B...</td>\n",
       "      <td>139</td>\n",
       "      <td>1398879075133886466</td>\n",
       "      <td>2021-05-30 05:48:56</td>\n",
       "      <td>Twitter for iPhone</td>\n",
       "      <td>5050</td>\n",
       "      <td>351</td>\n",
       "    </tr>\n",
       "    <tr>\n",
       "      <th>7</th>\n",
       "      <td>@RationalEtienne @kimbal True</td>\n",
       "      <td>29</td>\n",
       "      <td>1398813676396638209</td>\n",
       "      <td>2021-05-30 01:29:03</td>\n",
       "      <td>Twitter for iPhone</td>\n",
       "      <td>22184</td>\n",
       "      <td>634</td>\n",
       "    </tr>\n",
       "    <tr>\n",
       "      <th>8</th>\n",
       "      <td>@UniverCurious @TechInsider 250M years is only...</td>\n",
       "      <td>75</td>\n",
       "      <td>1398812401298939906</td>\n",
       "      <td>2021-05-30 01:23:59</td>\n",
       "      <td>Twitter for iPhone</td>\n",
       "      <td>12119</td>\n",
       "      <td>717</td>\n",
       "    </tr>\n",
       "    <tr>\n",
       "      <th>9</th>\n",
       "      <td>@Erdayastronaut @nextspaceflight @NASASpacefli...</td>\n",
       "      <td>123</td>\n",
       "      <td>1398803577380904961</td>\n",
       "      <td>2021-05-30 00:48:56</td>\n",
       "      <td>Twitter for iPhone</td>\n",
       "      <td>14571</td>\n",
       "      <td>1130</td>\n",
       "    </tr>\n",
       "  </tbody>\n",
       "</table>\n",
       "</div>"
      ],
      "text/plain": [
       "                                              Tweets  len  \\\n",
       "0  @ErcXspace @SpaceX @NASASpaceflight @MarcusHou...  140   \n",
       "1  @hiddin2urleft @greg16676935420 @blockfolio @B...  139   \n",
       "2  Ocean spaceport Deimos is under construction f...   89   \n",
       "3  RT @SpaceX: One year ago today, SpaceX launche...  139   \n",
       "4            @RenataKonkoly @Tesmanian_com Sehnsucht   39   \n",
       "5                             @Tesmanian_com Danke!!   22   \n",
       "6  @PPathole @nextspaceflight @NASASpaceflight @B...  139   \n",
       "7                      @RationalEtienne @kimbal True   29   \n",
       "8  @UniverCurious @TechInsider 250M years is only...   75   \n",
       "9  @Erdayastronaut @nextspaceflight @NASASpacefli...  123   \n",
       "\n",
       "                    ID                Date              Source  Likes   RTs  \n",
       "0  1399221133711446018 2021-05-31 04:28:09  Twitter for iPhone  12600   607  \n",
       "1  1399114511202852871 2021-05-30 21:24:28  Twitter for iPhone  31859  1826  \n",
       "2  1399088815705399305 2021-05-30 19:42:22  Twitter for iPhone  94411  9169  \n",
       "3  1399088337206525952 2021-05-30 19:40:28  Twitter for iPhone      0  2817  \n",
       "4  1399051334339465224 2021-05-30 17:13:25  Twitter for iPhone   3749   218  \n",
       "5  1399047159467679752 2021-05-30 16:56:50  Twitter for iPhone  18238   679  \n",
       "6  1398879075133886466 2021-05-30 05:48:56  Twitter for iPhone   5050   351  \n",
       "7  1398813676396638209 2021-05-30 01:29:03  Twitter for iPhone  22184   634  \n",
       "8  1398812401298939906 2021-05-30 01:23:59  Twitter for iPhone  12119   717  \n",
       "9  1398803577380904961 2021-05-30 00:48:56  Twitter for iPhone  14571  1130  "
      ]
     },
     "metadata": {},
     "output_type": "display_data"
    }
   ],
   "source": [
    "# Display of first 10 elements from dataframe:\n",
    "display(elon_tweet_data.head(10))"
   ]
  },
  {
   "cell_type": "markdown",
   "metadata": {},
   "source": [
    "**Visualization and basic statistics**"
   ]
  },
  {
   "cell_type": "code",
   "execution_count": 93,
   "metadata": {},
   "outputs": [
    {
     "name": "stdout",
     "output_type": "stream",
     "text": [
      "The length's average in tweets: 74.975\n"
     ]
    }
   ],
   "source": [
    "# We extract the mean of lenghts:\n",
    "mean = np.mean(elon_tweet_data['len'])\n",
    "\n",
    "print(\"The length's average in tweets: {}\".format(mean))"
   ]
  },
  {
   "cell_type": "code",
   "execution_count": 96,
   "metadata": {},
   "outputs": [
    {
     "name": "stdout",
     "output_type": "stream",
     "text": [
      "The tweet with more likes is: \n",
      "Deep thots https://t.co/J5mJff7IIL\n",
      "Number of likes: 289132\n",
      "34 characters.\n",
      "\n",
      "The tweet with more retweets is: \n",
      "Deep thots https://t.co/J5mJff7IIL\n",
      "Number of retweets: 27837\n",
      "34 characters.\n",
      "\n"
     ]
    }
   ],
   "source": [
    "# We extract the tweet with more FAVs and more RTs:\n",
    "\n",
    "fav_max = np.max(elon_tweet_data['Likes'])\n",
    "rt_max  = np.max(elon_tweet_data['RTs'])\n",
    "\n",
    "fav = elon_tweet_data[elon_tweet_data.Likes == fav_max].index[0]\n",
    "rt  = elon_tweet_data[elon_tweet_data.RTs == rt_max].index[0]\n",
    "\n",
    "# Max FAVs:\n",
    "print(\"The tweet with more likes is: \\n{}\".format(elon_tweet_data['Tweets'][fav]))\n",
    "print(\"Number of likes: {}\".format(fav_max))\n",
    "print(\"{} characters.\\n\".format(elon_tweet_data['len'][fav]))\n",
    "\n",
    "# Max RTs:\n",
    "print(\"The tweet with more retweets is: \\n{}\".format(elon_tweet_data['Tweets'][rt]))\n",
    "print(\"Number of retweets: {}\".format(rt_max))\n",
    "print(\"{} characters.\\n\".format(elon_tweet_data['len'][rt]))"
   ]
  },
  {
   "cell_type": "markdown",
   "metadata": {},
   "source": [
    "**Time Series used in Elons tweets**\n",
    "- this is a time series that tracks likes, retweets, and tweets in a time basis"
   ]
  },
  {
   "cell_type": "code",
   "execution_count": 97,
   "metadata": {},
   "outputs": [],
   "source": [
    "# We create time series for data:\n",
    "tlen = pd.Series(data=elon_tweet_data['len'].values, index=elon_tweet_data['Date'])\n",
    "tfav = pd.Series(data=elon_tweet_data['Likes'].values, index=elon_tweet_data['Date'])\n",
    "tret = pd.Series(data=elon_tweet_data['RTs'].values, index=elon_tweet_data['Date'])"
   ]
  },
  {
   "cell_type": "code",
   "execution_count": 100,
   "metadata": {},
   "outputs": [
    {
     "data": {
      "image/png": "[encoded data removed]",
      "text/plain": [
       "<Figure size 1152x288 with 1 Axes>"
      ]
     },
     "metadata": {},
     "output_type": "display_data"
    }
   ],
   "source": [
    "# Length along time:\n",
    "tlen.plot(figsize=(16,4), color='r');"
   ]
  },
  {
   "cell_type": "code",
   "execution_count": 101,
   "metadata": {},
   "outputs": [
    {
     "data": {
      "image/png": "[encoded data removed]",
      "text/plain": [
       "<Figure size 1152x288 with 1 Axes>"
      ]
     },
     "metadata": {},
     "output_type": "display_data"
    }
   ],
   "source": [
    "# Likes vs retweets visualization:\n",
    "tfav.plot(figsize=(16,4), label=\"Likes\", legend=True)\n",
    "tret.plot(figsize=(16,4), label=\"Retweets\", legend=True);"
   ]
  },
  {
   "cell_type": "markdown",
   "metadata": {},
   "source": [
    "**Perform Sentiment Analysis on Elon Musks' Tweets**\n",
    "- Elon's twitter can be very unpredictable because of the high volatility of the stock market and in the crypto space. His tweets can move the market in unpredictable ways and so we will find out whether his twitter is positive or negative during this time."
   ]
  },
  {
   "cell_type": "code",
   "execution_count": 105,
   "metadata": {},
   "outputs": [],
   "source": [
    "#import textblob to allow for sentiment analysis\n",
    "from textblob import TextBlob\n",
    "import re\n",
    "\n",
    "def clean_tweet(tweet):\n",
    "    '''\n",
    "    Utility function to clean the text in a tweet by removing\n",
    "    links and special characters using regex.\n",
    "    '''\n",
    "    return ' '.join(re.sub(\"(@[A-Za-z0-9]+)|([^0-9A-Za-z \\t])|(\\w+:\\/\\/\\S+)\", \" \", tweet).split())\n",
    "\n",
    "def analyze_sentiment(tweet):\n",
    "    '''\n",
    "    Utility function to classify the polarity of a tweet\n",
    "    using textblob.\n",
    "    '''\n",
    "    analysis = TextBlob(clean_tweet(tweet))\n",
    "    if analysis.sentiment.polarity > 0:\n",
    "        return 1\n",
    "    elif analysis.sentiment.polarity == 0:\n",
    "        return 0\n",
    "    else:\n",
    "        return -1"
   ]
  },
  {
   "cell_type": "code",
   "execution_count": 106,
   "metadata": {},
   "outputs": [
    {
     "data": {
      "text/html": [
       "<div>\n",
       "<style scoped>\n",
       "    .dataframe tbody tr th:only-of-type {\n",
       "        vertical-align: middle;\n",
       "    }\n",
       "\n",
       "    .dataframe tbody tr th {\n",
       "        vertical-align: top;\n",
       "    }\n",
       "\n",
       "    .dataframe thead th {\n",
       "        text-align: right;\n",
       "    }\n",
       "</style>\n",
       "<table border=\"1\" class=\"dataframe\">\n",
       "  <thead>\n",
       "    <tr style=\"text-align: right;\">\n",
       "      <th></th>\n",
       "      <th>Tweets</th>\n",
       "      <th>len</th>\n",
       "      <th>ID</th>\n",
       "      <th>Date</th>\n",
       "      <th>Source</th>\n",
       "      <th>Likes</th>\n",
       "      <th>RTs</th>\n",
       "      <th>SA</th>\n",
       "    </tr>\n",
       "  </thead>\n",
       "  <tbody>\n",
       "    <tr>\n",
       "      <th>0</th>\n",
       "      <td>@ErcXspace @SpaceX @NASASpaceflight @MarcusHou...</td>\n",
       "      <td>140</td>\n",
       "      <td>1399221133711446018</td>\n",
       "      <td>2021-05-31 04:28:09</td>\n",
       "      <td>Twitter for iPhone</td>\n",
       "      <td>12600</td>\n",
       "      <td>607</td>\n",
       "      <td>1</td>\n",
       "    </tr>\n",
       "    <tr>\n",
       "      <th>1</th>\n",
       "      <td>@hiddin2urleft @greg16676935420 @blockfolio @B...</td>\n",
       "      <td>139</td>\n",
       "      <td>1399114511202852871</td>\n",
       "      <td>2021-05-30 21:24:28</td>\n",
       "      <td>Twitter for iPhone</td>\n",
       "      <td>31859</td>\n",
       "      <td>1826</td>\n",
       "      <td>0</td>\n",
       "    </tr>\n",
       "    <tr>\n",
       "      <th>2</th>\n",
       "      <td>Ocean spaceport Deimos is under construction f...</td>\n",
       "      <td>89</td>\n",
       "      <td>1399088815705399305</td>\n",
       "      <td>2021-05-30 19:42:22</td>\n",
       "      <td>Twitter for iPhone</td>\n",
       "      <td>94411</td>\n",
       "      <td>9169</td>\n",
       "      <td>0</td>\n",
       "    </tr>\n",
       "    <tr>\n",
       "      <th>3</th>\n",
       "      <td>RT @SpaceX: One year ago today, SpaceX launche...</td>\n",
       "      <td>139</td>\n",
       "      <td>1399088337206525952</td>\n",
       "      <td>2021-05-30 19:40:28</td>\n",
       "      <td>Twitter for iPhone</td>\n",
       "      <td>0</td>\n",
       "      <td>2817</td>\n",
       "      <td>1</td>\n",
       "    </tr>\n",
       "    <tr>\n",
       "      <th>4</th>\n",
       "      <td>@RenataKonkoly @Tesmanian_com Sehnsucht</td>\n",
       "      <td>39</td>\n",
       "      <td>1399051334339465224</td>\n",
       "      <td>2021-05-30 17:13:25</td>\n",
       "      <td>Twitter for iPhone</td>\n",
       "      <td>3749</td>\n",
       "      <td>218</td>\n",
       "      <td>0</td>\n",
       "    </tr>\n",
       "    <tr>\n",
       "      <th>5</th>\n",
       "      <td>@Tesmanian_com Danke!!</td>\n",
       "      <td>22</td>\n",
       "      <td>1399047159467679752</td>\n",
       "      <td>2021-05-30 16:56:50</td>\n",
       "      <td>Twitter for iPhone</td>\n",
       "      <td>18238</td>\n",
       "      <td>679</td>\n",
       "      <td>0</td>\n",
       "    </tr>\n",
       "    <tr>\n",
       "      <th>6</th>\n",
       "      <td>@PPathole @nextspaceflight @NASASpaceflight @B...</td>\n",
       "      <td>139</td>\n",
       "      <td>1398879075133886466</td>\n",
       "      <td>2021-05-30 05:48:56</td>\n",
       "      <td>Twitter for iPhone</td>\n",
       "      <td>5050</td>\n",
       "      <td>351</td>\n",
       "      <td>-1</td>\n",
       "    </tr>\n",
       "    <tr>\n",
       "      <th>7</th>\n",
       "      <td>@RationalEtienne @kimbal True</td>\n",
       "      <td>29</td>\n",
       "      <td>1398813676396638209</td>\n",
       "      <td>2021-05-30 01:29:03</td>\n",
       "      <td>Twitter for iPhone</td>\n",
       "      <td>22184</td>\n",
       "      <td>634</td>\n",
       "      <td>1</td>\n",
       "    </tr>\n",
       "    <tr>\n",
       "      <th>8</th>\n",
       "      <td>@UniverCurious @TechInsider 250M years is only...</td>\n",
       "      <td>75</td>\n",
       "      <td>1398812401298939906</td>\n",
       "      <td>2021-05-30 01:23:59</td>\n",
       "      <td>Twitter for iPhone</td>\n",
       "      <td>12119</td>\n",
       "      <td>717</td>\n",
       "      <td>0</td>\n",
       "    </tr>\n",
       "    <tr>\n",
       "      <th>9</th>\n",
       "      <td>@Erdayastronaut @nextspaceflight @NASASpacefli...</td>\n",
       "      <td>123</td>\n",
       "      <td>1398803577380904961</td>\n",
       "      <td>2021-05-30 00:48:56</td>\n",
       "      <td>Twitter for iPhone</td>\n",
       "      <td>14571</td>\n",
       "      <td>1130</td>\n",
       "      <td>0</td>\n",
       "    </tr>\n",
       "  </tbody>\n",
       "</table>\n",
       "</div>"
      ],
      "text/plain": [
       "                                              Tweets  len  \\\n",
       "0  @ErcXspace @SpaceX @NASASpaceflight @MarcusHou...  140   \n",
       "1  @hiddin2urleft @greg16676935420 @blockfolio @B...  139   \n",
       "2  Ocean spaceport Deimos is under construction f...   89   \n",
       "3  RT @SpaceX: One year ago today, SpaceX launche...  139   \n",
       "4            @RenataKonkoly @Tesmanian_com Sehnsucht   39   \n",
       "5                             @Tesmanian_com Danke!!   22   \n",
       "6  @PPathole @nextspaceflight @NASASpaceflight @B...  139   \n",
       "7                      @RationalEtienne @kimbal True   29   \n",
       "8  @UniverCurious @TechInsider 250M years is only...   75   \n",
       "9  @Erdayastronaut @nextspaceflight @NASASpacefli...  123   \n",
       "\n",
       "                    ID                Date              Source  Likes   RTs  \\\n",
       "0  1399221133711446018 2021-05-31 04:28:09  Twitter for iPhone  12600   607   \n",
       "1  1399114511202852871 2021-05-30 21:24:28  Twitter for iPhone  31859  1826   \n",
       "2  1399088815705399305 2021-05-30 19:42:22  Twitter for iPhone  94411  9169   \n",
       "3  1399088337206525952 2021-05-30 19:40:28  Twitter for iPhone      0  2817   \n",
       "4  1399051334339465224 2021-05-30 17:13:25  Twitter for iPhone   3749   218   \n",
       "5  1399047159467679752 2021-05-30 16:56:50  Twitter for iPhone  18238   679   \n",
       "6  1398879075133886466 2021-05-30 05:48:56  Twitter for iPhone   5050   351   \n",
       "7  1398813676396638209 2021-05-30 01:29:03  Twitter for iPhone  22184   634   \n",
       "8  1398812401298939906 2021-05-30 01:23:59  Twitter for iPhone  12119   717   \n",
       "9  1398803577380904961 2021-05-30 00:48:56  Twitter for iPhone  14571  1130   \n",
       "\n",
       "   SA  \n",
       "0   1  \n",
       "1   0  \n",
       "2   0  \n",
       "3   1  \n",
       "4   0  \n",
       "5   0  \n",
       "6  -1  \n",
       "7   1  \n",
       "8   0  \n",
       "9   0  "
      ]
     },
     "metadata": {},
     "output_type": "display_data"
    }
   ],
   "source": [
    "# create a column with the result of the analysis:\n",
    "elon_tweet_data['SA'] = np.array([ analyze_sentiment(tweet) for tweet in elon_tweet_data['Tweets'] ])\n",
    "\n",
    "# We display the updated dataframe with the new column:\n",
    "display(elon_tweet_data.head(10))"
   ]
  },
  {
   "cell_type": "markdown",
   "metadata": {},
   "source": [
    "**Analyzing the results**"
   ]
  },
  {
   "cell_type": "code",
   "execution_count": 107,
   "metadata": {},
   "outputs": [],
   "source": [
    "# We construct lists with classified tweets:\n",
    "pos_tweets = [ tweet for index, tweet in enumerate(elon_tweet_data['Tweets']) if elon_tweet_data['SA'][index] > 0]\n",
    "neu_tweets = [ tweet for index, tweet in enumerate(elon_tweet_data['Tweets']) if elon_tweet_data['SA'][index] == 0]\n",
    "neg_tweets = [ tweet for index, tweet in enumerate(elon_tweet_data['Tweets']) if elon_tweet_data['SA'][index] < 0]"
   ]
  },
  {
   "cell_type": "code",
   "execution_count": 108,
   "metadata": {},
   "outputs": [
    {
     "name": "stdout",
     "output_type": "stream",
     "text": [
      "Percentage of positive tweets: 32.5%\n",
      "Percentage of neutral tweets: 52.5%\n",
      "Percentage de negative tweets: 15.0%\n"
     ]
    }
   ],
   "source": [
    "# we print the percentages \n",
    "print(\"Percentage of positive tweets: {}%\".format(len(pos_tweets)*100/len(elon_tweet_data['Tweets'])))\n",
    "print(\"Percentage of neutral tweets: {}%\".format(len(neu_tweets)*100/len(elon_tweet_data['Tweets'])))\n",
    "print(\"Percentage de negative tweets: {}%\".format(len(neg_tweets)*100/len(elon_tweet_data['Tweets'])))"
   ]
  },
  {
   "cell_type": "markdown",
   "metadata": {},
   "source": [
    "**Conclusion**\n",
    "- As displayed in the sentiment analysis, Elon Musk is actually fairly neutral type of individual reflected in 52.5% shown."
   ]
  },
  {
   "cell_type": "code",
   "execution_count": null,
   "metadata": {},
   "outputs": [],
   "source": []
  }
 ],
 "metadata": {
  "kernelspec": {
   "display_name": "Python 3",
   "language": "python",
   "name": "python3"
  },
  "language_info": {
   "codemirror_mode": {
    "name": "ipython",
    "version": 3
   },
   "file_extension": ".py",
   "mimetype": "text/x-python",
   "name": "python",
   "nbconvert_exporter": "python",
   "pygments_lexer": "ipython3",
   "version": "3.8.5"
  }
 },
 "nbformat": 4,
 "nbformat_minor": 4
}
